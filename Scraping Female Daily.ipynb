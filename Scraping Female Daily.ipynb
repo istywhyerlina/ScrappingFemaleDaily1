{
 "cells": [
  {
   "cell_type": "markdown",
   "metadata": {},
   "source": [
    "This time we will try (\"We\" as if you're trying to do this too, if not so it should be just \"I wil try\") to get some information from female daily review. It is my first time doing this thing, I realize there is some mistakes, I'm still learning and figuring out for the best, so maybe you could help me too. \n",
    "This code can be applied to get information that is \"necessarily\" to be filled on Female daily. However not all information is filled by all the reviewer (for example there is some reviewer that don't  tell about the usage period) so i should probably look up per review detail user, not just scrapping it with find all at the first place.  \n",
    "Anyway I just realize it as my mistake so I'm kinda trying to get it fixed tomorrow. However, I still will post it as my archive. Just like what we usually do, make mistake, learn, and try again! "
   ]
  },
  {
   "cell_type": "markdown",
   "metadata": {},
   "source": [
    "# Import Modules"
   ]
  },
  {
   "cell_type": "code",
   "execution_count": 1,
   "metadata": {
    "ExecuteTime": {
     "end_time": "2020-05-10T08:37:25.383808Z",
     "start_time": "2020-05-10T08:37:25.376320Z"
    },
    "scrolled": true
   },
   "outputs": [],
   "source": [
    "import requests\n",
    "from bs4 import BeautifulSoup\n",
    "import pandas as pd\n",
    "import re\n",
    "from datetime import datetime\n",
    "\n"
   ]
  },
  {
   "cell_type": "code",
   "execution_count": 2,
   "metadata": {
    "ExecuteTime": {
     "end_time": "2020-05-10T08:37:26.137829Z",
     "start_time": "2020-05-10T08:37:26.128455Z"
    }
   },
   "outputs": [],
   "source": [
    "#dir_path = os.getcwd()\n",
    "startTime = datetime.now()"
   ]
  },
  {
   "cell_type": "code",
   "execution_count": 3,
   "metadata": {
    "ExecuteTime": {
     "end_time": "2020-05-10T08:26:59.492880Z",
     "start_time": "2020-05-10T08:26:54.567189Z"
    }
   },
   "outputs": [],
   "source": [
    "# Get the url (only 1 page)\n",
    "hal = 3\n",
    "url = 'https://reviews.femaledaily.com/products/lips/lipstick/dear-me-beauty/perfect-matte-lip-coat?cat=&cat_id=0&age_range=&skin_type=&skin_tone=&skin_undertone=&hair_texture=&hair_type=&order=newest&page={hal}'.format(hal=hal)\n",
    "page = requests.get(url)"
   ]
  },
  {
   "cell_type": "markdown",
   "metadata": {},
   "source": [
    "# TO USE SELENIUM"
   ]
  },
  {
   "cell_type": "raw",
   "metadata": {},
   "source": [
    "#impot module\n",
    "from selenium import webdriver\n",
    "from selenium.webdriver.chrome.options import Options\n",
    "from selenium.webdriver.support.ui import WebDriverWait\n",
    "from selenium.webdriver.support import expected_conditions as EC\n",
    "from selenium.webdriver.common.by import By\n",
    "from selenium.common.exceptions import TimeoutException\n",
    "from bs4 import BeautifulSoup\n",
    "import pandas as pd"
   ]
  },
  {
   "cell_type": "raw",
   "metadata": {},
   "source": [
    "# chrome_options = Options()\n",
    "chrome_options.add_experimental_option(\"prefs\", {\n",
    "  \"download.default_directory\": r\"C:\\Users\\user\\Downloads\",\n",
    "  \"download.prompt_for_download\": False,\n",
    "  \"download.directory_upgrade\": True,\n",
    "  \"safebrowsing.enabled\": False\n",
    "})"
   ]
  },
  {
   "cell_type": "raw",
   "metadata": {},
   "source": [
    "driver = webdriver.Chrome(\"C:/Users/user/Downloads/chromedriver.exe\",chrome_options=chrome_options)\n",
    "driver.get(url)"
   ]
  },
  {
   "cell_type": "raw",
   "metadata": {},
   "source": [
    "#How to click Next Page \n",
    "driver.find_element_by_id(\"id_next_page\").click\n",
    "\n",
    "#PS I still have an issue with this line\n",
    "#Is it just me or the next page button can not be clicked, HEEEELPPP"
   ]
  },
  {
   "cell_type": "code",
   "execution_count": 12,
   "metadata": {
    "ExecuteTime": {
     "end_time": "2020-05-10T08:27:00.670647Z",
     "start_time": "2020-05-10T08:27:00.451976Z"
    }
   },
   "outputs": [],
   "source": [
    "# Wrangling HTML with BeautifulSoup\n",
    "\n",
    "#Get Username and skin type\n",
    "soup = BeautifulSoup(page.content,'html.parser')\n",
    "Username = soup.find_all('p',class_='username')\n",
    "skin = soup.find_all('p',class_='skin')\n",
    "uname=[]\n",
    "skintype=[]"
   ]
  },
  {
   "cell_type": "code",
   "execution_count": 13,
   "metadata": {},
   "outputs": [],
   "source": [
    "#Get Username\n",
    "for elem in Username:\n",
    "    uname.append(elem.text)\n",
    "\n",
    "#Get Skintype    \n",
    "for elem in skin:\n",
    "    skintype.append(elem.text)"
   ]
  },
  {
   "cell_type": "code",
   "execution_count": 14,
   "metadata": {},
   "outputs": [],
   "source": [
    "#Parsing skin type\n",
    "skin2=[]\n",
    "oiltype=[]\n",
    "shade=[]\n",
    "tone=[]\n",
    "age=[]\n",
    "\n",
    "for elem in skintype:\n",
    "    skin2.append(elem.split(\",\"))\n",
    "for elem in skin2:\n",
    "    oiltype.append(elem[0])\n",
    "    shade.append(elem[1])\n",
    "    tone.append(elem[2])\n",
    "    age.append(elem[3])\n",
    "    "
   ]
  },
  {
   "cell_type": "code",
   "execution_count": 15,
   "metadata": {},
   "outputs": [],
   "source": [
    "#Get rating\n",
    "\n",
    "rating=[]\n",
    "star = soup.find_all('span',class_='cardrv-starlist')\n",
    "\n",
    "for elem in star:\n",
    "    bintang=elem.find_all('i',{'class':lambda x: x and \"icon-ic_big_star_full\" in x.split()})\n",
    "    rating.append(len(bintang))\n",
    "\n",
    "#First rating is average rating from all users, so we drop it\n",
    "rating=rating[1:]\n",
    "\n"
   ]
  },
  {
   "cell_type": "code",
   "execution_count": 16,
   "metadata": {},
   "outputs": [],
   "source": [
    "#Get Comment\n",
    "#PS I Can not click \"Read More\" on the comment section. Is it just me? :(\n",
    "komen = soup.find_all('p', class_=\"text-content\")\n",
    "comment=[]\n",
    "for elem in komen:\n",
    "    comment.append(elem.find('span').text)\n"
   ]
  },
  {
   "cell_type": "code",
   "execution_count": 17,
   "metadata": {},
   "outputs": [],
   "source": [
    "df = pd.DataFrame(list(zip(uname, oiltype,shade, tone, age, rating,comment )), \n",
    "               columns =[\"username\", \"oiltype\",\"shade\", \"tone\", \"age\", \"rating\",\"comment\"])"
   ]
  },
  {
   "cell_type": "code",
   "execution_count": 18,
   "metadata": {},
   "outputs": [
    {
     "name": "stdout",
     "output_type": "stream",
     "text": [
      "          username      oiltype          shade      tone       age  rating  \\\n",
      "0  titihbaudelaire  Combination   Medium Light   Neutral   25 - 29       3   \n",
      "1   ihsaniaharimah          Dry         Medium      Warm   19 - 24       5   \n",
      "2         annychua         Oily   Medium Light   Neutral   25 - 29       5   \n",
      "3         dresyafp          Dry   Medium Light      Cool   19 - 24       4   \n",
      "4    listianahenri  Combination   Medium Light      Cool   19 - 24       5   \n",
      "5        jihanfied         Oily   Medium Light   Neutral   19 - 24       5   \n",
      "6           febbes         Oily         Medium      Warm   19 - 24       4   \n",
      "7     Sarahdianisa       Normal   Medium Light   Neutral   35 - 39       2   \n",
      "8       ayularissa  Combination   Medium Light      Warm   25 - 29       5   \n",
      "9          sofya99  Combination   Medium Light   Neutral   19 - 24       5   \n",
      "\n",
      "                                             comment  \n",
      "0  aku beli 3 warna sekaligus. dear luna,felice, ...  \n",
      "1  setelah sekian lama galau menentukan shades ma...  \n",
      "2  Teksturnya juara! lembut & ga bikin bibir peca...  \n",
      "3  Akhirnya nyobain shade \"Luna\" ini dari sekian ...  \n",
      "4  Barusan nyoba product dear me beauty setelah m...  \n",
      "5  Shade “Dear Luna” ini menurutku cocok untuk se...  \n",
      "6  Shade dear luna ini perfect for everyday use! ...  \n",
      "7  Jual Preloved nih. masih banyak baru dua kali ...  \n",
      "8  Wawawawa kesayangan akuh!!! Definisi jatuh cin...  \n",
      "9  big love buat dear me beauty. heran lipstik da...  \n"
     ]
    }
   ],
   "source": [
    "print(df)"
   ]
  },
  {
   "cell_type": "code",
   "execution_count": 11,
   "metadata": {
    "ExecuteTime": {
     "end_time": "2020-05-10T08:38:02.440082Z",
     "start_time": "2020-05-10T08:38:02.432940Z"
    }
   },
   "outputs": [
    {
     "name": "stdout",
     "output_type": "stream",
     "text": [
      "0:00:27.987601\n"
     ]
    }
   ],
   "source": [
    "print( datetime.now() - startTime)"
   ]
  }
 ],
 "metadata": {
  "kernelspec": {
   "display_name": "Python 3",
   "language": "python",
   "name": "python3"
  },
  "language_info": {
   "codemirror_mode": {
    "name": "ipython",
    "version": 3
   },
   "file_extension": ".py",
   "mimetype": "text/x-python",
   "name": "python",
   "nbconvert_exporter": "python",
   "pygments_lexer": "ipython3",
   "version": "3.7.3"
  }
 },
 "nbformat": 4,
 "nbformat_minor": 2
}
